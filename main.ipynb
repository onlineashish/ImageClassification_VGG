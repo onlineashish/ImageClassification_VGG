{
 "cells": [
  {
   "cell_type": "code",
   "execution_count": 1,
   "metadata": {},
   "outputs": [],
   "source": [
    "import os\n",
    "\n",
    "# create directories\n",
    "dataset_home = 'dataset/'\n",
    "subdirs = ['train/', 'test/']\n",
    "for subdir in subdirs:\n",
    "\t# create label subdirectories\n",
    "\tlabeldirs = ['aeroplane/', 'ship/']\n",
    "\tfor labldir in labeldirs:\n",
    "\t\tnewdir = dataset_home + subdir + labldir\n",
    "\t\tos.makedirs(newdir, exist_ok=True)"
   ]
  },
  {
   "cell_type": "code",
   "execution_count": 4,
   "metadata": {},
   "outputs": [
    {
     "name": "stdout",
     "output_type": "stream",
     "text": [
      "searching...\n",
      "Downloading 80 images...\n"
     ]
    }
   ],
   "source": [
    "# First Section: Importing Libraries\n",
    "import os\n",
    "import requests\n",
    "from bs4 import BeautifulSoup\n",
    "\n",
    "# Second Section: Declare important variables\n",
    "google_image = \"https://www.google.com/search?site=&tbm=isch&source=hp&biw=1873&bih=990&\"\n",
    "\n",
    "user_agent = {\n",
    "    \"User-Agent\": \"Mozilla/5.0 (Windows NT 10.0; Win64; x64) AppleWebKit/537.36 (KHTML, like Gecko) Chrome/70.0.3538.77 Safari/537.36\"\n",
    "}\n",
    "\n",
    "# Third Section: Build the main function\n",
    "saved_folder = 'dataset/train/ship'\n",
    "\n",
    "\n",
    "def main():\n",
    "    if not os.path.exists(saved_folder):\n",
    "        os.mkdir(saved_folder)\n",
    "    download_images()\n",
    "\n",
    "\n",
    "# Fourth Section: Build the download function\n",
    "def download_images():\n",
    "    data = 'ship' #input('What are you looking for? ')\n",
    "    n_images = 80 #int(input('How many images do you want? '))\n",
    "\n",
    "    print('searching...')\n",
    "\n",
    "    search_url = google_image + 'q=' + data\n",
    "\n",
    "    response = requests.get(search_url, headers=user_agent)\n",
    "\n",
    "    html = response.text\n",
    "\n",
    "    soup = BeautifulSoup(html, 'html.parser')\n",
    "\n",
    "    results = soup.findAll('img', {'class': 'rg_i Q4LuWd'})\n",
    "\n",
    "    count = 1\n",
    "    links = []\n",
    "    for result in results:\n",
    "        try:\n",
    "            link = result['data-src']\n",
    "            links.append(link)\n",
    "            count += 1\n",
    "            if(count > n_images):\n",
    "                break\n",
    "\n",
    "        except KeyError:\n",
    "            continue\n",
    "\n",
    "    print(f\"Downloading {len(links)} images...\")\n",
    "\n",
    "    for i, link in enumerate(links):\n",
    "        response = requests.get(link)\n",
    "\n",
    "        image_name = saved_folder + '/' + data + str(i+1) + '.jpg'\n",
    "\n",
    "        with open(image_name, 'wb') as fh:\n",
    "            fh.write(response.content)\n",
    "\n",
    "\n",
    "# Fifth Section: Run your code\n",
    "if __name__ == \"__main__\":\n",
    "    main()"
   ]
  },
  {
   "cell_type": "code",
   "execution_count": 5,
   "metadata": {},
   "outputs": [
    {
     "data": {
      "text/plain": [
       "(80, 80)"
      ]
     },
     "execution_count": 5,
     "metadata": {},
     "output_type": "execute_result"
    }
   ],
   "source": [
    "len(os.listdir('dataset/train/ship')), len(os.listdir('dataset/train/aeroplane'))"
   ]
  },
  {
   "cell_type": "code",
   "execution_count": 6,
   "metadata": {},
   "outputs": [
    {
     "name": "stderr",
     "output_type": "stream",
     "text": [
      "/usr/local/lib/python3.10/dist-packages/tqdm/auto.py:21: TqdmWarning: IProgress not found. Please update jupyter and ipywidgets. See https://ipywidgets.readthedocs.io/en/stable/user_install.html\n",
      "  from .autonotebook import tqdm as notebook_tqdm\n",
      "100%|██████████| 30/30 [00:59<00:00,  1.99s/it]\n"
     ]
    },
    {
     "data": {
      "text/plain": [
       "20"
      ]
     },
     "execution_count": 6,
     "metadata": {},
     "output_type": "execute_result"
    }
   ],
   "source": [
    "import DuckDuckGoImages as ddg\n",
    "\n",
    "ddg.download('aeroplane', max_urls=30, folder='dataset/test/aeroplane/' )\n"
   ]
  },
  {
   "cell_type": "code",
   "execution_count": 7,
   "metadata": {},
   "outputs": [
    {
     "data": {
      "text/plain": [
       "26"
      ]
     },
     "execution_count": 7,
     "metadata": {},
     "output_type": "execute_result"
    }
   ],
   "source": [
    "len(os.listdir('dataset/test/aeroplane'))"
   ]
  },
  {
   "cell_type": "code",
   "execution_count": 8,
   "metadata": {},
   "outputs": [
    {
     "name": "stderr",
     "output_type": "stream",
     "text": [
      "100%|██████████| 30/30 [01:16<00:00,  2.54s/it]\n"
     ]
    },
    {
     "data": {
      "text/plain": [
       "24"
      ]
     },
     "execution_count": 8,
     "metadata": {},
     "output_type": "execute_result"
    }
   ],
   "source": [
    "ddg.download('ship', max_urls=30, folder='dataset/test/ship/')"
   ]
  },
  {
   "cell_type": "code",
   "execution_count": 9,
   "metadata": {},
   "outputs": [
    {
     "data": {
      "text/plain": [
       "24"
      ]
     },
     "execution_count": 9,
     "metadata": {},
     "output_type": "execute_result"
    }
   ],
   "source": [
    "len(os.listdir('dataset/test/ship'))"
   ]
  }
 ],
 "metadata": {
  "kernelspec": {
   "display_name": "Python 3",
   "language": "python",
   "name": "python3"
  },
  "language_info": {
   "codemirror_mode": {
    "name": "ipython",
    "version": 3
   },
   "file_extension": ".py",
   "mimetype": "text/x-python",
   "name": "python",
   "nbconvert_exporter": "python",
   "pygments_lexer": "ipython3",
   "version": "3.10.6"
  },
  "orig_nbformat": 4
 },
 "nbformat": 4,
 "nbformat_minor": 2
}
